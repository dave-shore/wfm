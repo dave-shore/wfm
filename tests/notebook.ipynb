{
 "cells": [
  {
   "cell_type": "code",
   "execution_count": 1,
   "id": "68b494b8",
   "metadata": {},
   "outputs": [],
   "source": [
    "from wfm.spherical_mesh import *\n",
    "from timeit import timeit"
   ]
  },
  {
   "cell_type": "code",
   "execution_count": null,
   "id": "c299f5ab",
   "metadata": {},
   "outputs": [
    {
     "data": {
      "text/plain": [
       "281474976710656"
      ]
     },
     "execution_count": 8,
     "metadata": {},
     "output_type": "execute_result"
    }
   ],
   "source": [
    "2**48 # possible vocab size"
   ]
  },
  {
   "cell_type": "code",
   "execution_count": 3,
   "id": "111c2abe",
   "metadata": {},
   "outputs": [
    {
     "data": {
      "text/plain": [
       "(numpy.ndarray, (100, 360, 180, 3), dtype('float32'))"
      ]
     },
     "execution_count": 3,
     "metadata": {},
     "output_type": "execute_result"
    }
   ],
   "source": [
    "mesh = SphericalMesh()\n",
    "type(mesh.points), mesh.points.shape, mesh.points.dtype"
   ]
  },
  {
   "cell_type": "code",
   "execution_count": 4,
   "id": "522d0b79",
   "metadata": {},
   "outputs": [
    {
     "data": {
      "text/plain": [
       "(torch.Tensor, torch.Size([100, 360, 180, 3]), torch.float32)"
      ]
     },
     "execution_count": 4,
     "metadata": {},
     "output_type": "execute_result"
    }
   ],
   "source": [
    "torch_mesh = SphericalMesh(library = \"torch\")\n",
    "type(torch_mesh.points), torch_mesh.points.shape, torch_mesh.points.dtype"
   ]
  },
  {
   "cell_type": "code",
   "execution_count": 5,
   "id": "1e31d705",
   "metadata": {},
   "outputs": [
    {
     "data": {
      "text/plain": [
       "(jaxlib.xla_extension.ArrayImpl, (100, 360, 180, 3), dtype('float32'))"
      ]
     },
     "execution_count": 5,
     "metadata": {},
     "output_type": "execute_result"
    }
   ],
   "source": [
    "jax_mesh = SphericalMesh(library = \"jax\")\n",
    "type(jax_mesh.points), jax_mesh.points.shape, jax_mesh.points.dtype"
   ]
  },
  {
   "cell_type": "code",
   "execution_count": null,
   "id": "11575be7",
   "metadata": {},
   "outputs": [
    {
     "data": {
      "text/plain": [
       "11.557535199986887"
      ]
     },
     "execution_count": 6,
     "metadata": {},
     "output_type": "execute_result"
    }
   ],
   "source": [
    "timeit(\"\"\"SphericalMesh(library = 'torch')\"\"\", number = 100, globals = {\"SphericalMesh\": SphericalMesh})"
   ]
  },
  {
   "cell_type": "markdown",
   "id": "2e63c30f",
   "metadata": {},
   "source": [
    "---"
   ]
  },
  {
   "cell_type": "code",
   "execution_count": 1,
   "id": "c6dd0a0a",
   "metadata": {},
   "outputs": [
    {
     "name": "stderr",
     "output_type": "stream",
     "text": [
      "c:\\Users\\LENOVO\\AppData\\Local\\pypoetry\\Cache\\virtualenvs\\wfm-ErW5Bk3W-py3.12\\Lib\\site-packages\\tqdm\\auto.py:21: TqdmWarning: IProgress not found. Please update jupyter and ipywidgets. See https://ipywidgets.readthedocs.io/en/stable/user_install.html\n",
      "  from .autonotebook import tqdm as notebook_tqdm\n"
     ]
    },
    {
     "ename": "NameError",
     "evalue": "name 'pd' is not defined",
     "output_type": "error",
     "traceback": [
      "\u001b[31m---------------------------------------------------------------------------\u001b[39m",
      "\u001b[31mNameError\u001b[39m                                 Traceback (most recent call last)",
      "\u001b[36mCell\u001b[39m\u001b[36m \u001b[39m\u001b[32mIn[1]\u001b[39m\u001b[32m, line 1\u001b[39m\n\u001b[32m----> \u001b[39m\u001b[32m1\u001b[39m \u001b[38;5;28;01mfrom\u001b[39;00m\u001b[38;5;250m \u001b[39m\u001b[34;01mwfm\u001b[39;00m\u001b[34;01m.\u001b[39;00m\u001b[34;01minput_processor\u001b[39;00m\u001b[38;5;250m \u001b[39m\u001b[38;5;28;01mimport\u001b[39;00m *\n",
      "\u001b[36mFile \u001b[39m\u001b[32m~\\VSCodeProjects\\wfm\\src\\wfm\\input_processor.py:752\u001b[39m\n\u001b[32m    748\u001b[39m             placeholder = torch.zeros(\u001b[32m1\u001b[39m, \u001b[32m12\u001b[39m, \u001b[32m13\u001b[39m, \u001b[32m3\u001b[39m, device=\u001b[38;5;28mself\u001b[39m.device)\n\u001b[32m    749\u001b[39m             \u001b[38;5;28;01mreturn\u001b[39;00m placeholder\n\u001b[32m--> \u001b[39m\u001b[32m752\u001b[39m \u001b[38;5;28;43;01mclass\u001b[39;49;00m\u001b[38;5;250;43m \u001b[39;49m\u001b[34;43;01mTabularProcessor\u001b[39;49;00m\u001b[43m:\u001b[49m\n\u001b[32m    753\u001b[39m \u001b[38;5;250;43m    \u001b[39;49m\u001b[33;43;03m\"\"\"\u001b[39;49;00m\n\u001b[32m    754\u001b[39m \u001b[33;43;03m    Processes tabular data with text-like encoding and peripheral view summarization.\u001b[39;49;00m\n\u001b[32m    755\u001b[39m \u001b[33;43;03m    Left peripheral view contains row summaries, right peripheral view contains column summaries.\u001b[39;49;00m\n\u001b[32m    756\u001b[39m \u001b[33;43;03m    \"\"\"\u001b[39;49;00m\n\u001b[32m    758\u001b[39m \u001b[43m    \u001b[49m\u001b[38;5;28;43;01mdef\u001b[39;49;00m\u001b[38;5;250;43m \u001b[39;49m\u001b[34;43m__init__\u001b[39;49m\u001b[43m(\u001b[49m\u001b[38;5;28;43mself\u001b[39;49m\u001b[43m,\u001b[49m\u001b[43m \u001b[49m\u001b[43mtarget_shape\u001b[49m\u001b[43m:\u001b[49m\u001b[43m \u001b[49m\u001b[43mTuple\u001b[49m\u001b[43m[\u001b[49m\u001b[38;5;28;43mint\u001b[39;49m\u001b[43m,\u001b[49m\u001b[43m \u001b[49m\u001b[38;5;28;43mint\u001b[39;49m\u001b[43m,\u001b[49m\u001b[43m \u001b[49m\u001b[38;5;28;43mint\u001b[39;49m\u001b[43m]\u001b[49m\u001b[43m,\u001b[49m\u001b[43m \u001b[49m\u001b[43mdevice\u001b[49m\u001b[43m:\u001b[49m\u001b[43m \u001b[49m\u001b[43mtorch\u001b[49m\u001b[43m.\u001b[49m\u001b[43mdevice\u001b[49m\u001b[43m,\u001b[49m\u001b[43m \u001b[49m\u001b[43mtokenizer\u001b[49m\u001b[43m:\u001b[49m\u001b[43m \u001b[49m\u001b[43mOptional\u001b[49m\u001b[43m[\u001b[49m\u001b[43mBinaryTokenizer\u001b[49m\u001b[43m]\u001b[49m\u001b[43m \u001b[49m\u001b[43m=\u001b[49m\u001b[43m \u001b[49m\u001b[38;5;28;43;01mNone\u001b[39;49;00m\u001b[43m)\u001b[49m\u001b[43m:\u001b[49m\n",
      "\u001b[36mFile \u001b[39m\u001b[32m~\\VSCodeProjects\\wfm\\src\\wfm\\input_processor.py:776\u001b[39m, in \u001b[36mTabularProcessor\u001b[39m\u001b[34m()\u001b[39m\n\u001b[32m    773\u001b[39m     \u001b[38;5;28;01melse\u001b[39;00m:\n\u001b[32m    774\u001b[39m         \u001b[38;5;28mself\u001b[39m.text_processor = TextProcessor(target_shape, device, tokenizer)\n\u001b[32m--> \u001b[39m\u001b[32m776\u001b[39m \u001b[38;5;28;01mdef\u001b[39;00m\u001b[38;5;250m \u001b[39m\u001b[34mprocess\u001b[39m(\u001b[38;5;28mself\u001b[39m, tabular_input: Union[\u001b[43mpd\u001b[49m.DataFrame, np.ndarray, List[List]]) -> torch.Tensor:\n\u001b[32m    777\u001b[39m \u001b[38;5;250m    \u001b[39m\u001b[33;03m\"\"\"\u001b[39;00m\n\u001b[32m    778\u001b[39m \u001b[33;03m    Process tabular input to target tensor shape.\u001b[39;00m\n\u001b[32m    779\u001b[39m \u001b[33;03m    \u001b[39;00m\n\u001b[32m   (...)\u001b[39m\u001b[32m    784\u001b[39m \u001b[33;03m        Tensor of shape (target_height, target_width+1, target_channels)\u001b[39;00m\n\u001b[32m    785\u001b[39m \u001b[33;03m    \"\"\"\u001b[39;00m\n\u001b[32m    786\u001b[39m     \u001b[38;5;66;03m# Convert to DataFrame if needed\u001b[39;00m\n",
      "\u001b[31mNameError\u001b[39m: name 'pd' is not defined"
     ]
    }
   ],
   "source": [
    "from wfm.input_processor import *"
   ]
  },
  {
   "cell_type": "code",
   "execution_count": null,
   "id": "34c57542",
   "metadata": {},
   "outputs": [],
   "source": [
    "tokenizer = BinaryTokenizer(base_tokenizer, base_embedder)"
   ]
  }
 ],
 "metadata": {
  "kernelspec": {
   "display_name": "wfm-ErW5Bk3W-py3.12",
   "language": "python",
   "name": "python3"
  },
  "language_info": {
   "codemirror_mode": {
    "name": "ipython",
    "version": 3
   },
   "file_extension": ".py",
   "mimetype": "text/x-python",
   "name": "python",
   "nbconvert_exporter": "python",
   "pygments_lexer": "ipython3",
   "version": "3.12.8"
  }
 },
 "nbformat": 4,
 "nbformat_minor": 5
}
