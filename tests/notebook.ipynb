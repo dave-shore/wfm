{
 "cells": [
  {
   "cell_type": "code",
   "execution_count": 1,
   "id": "68b494b8",
   "metadata": {},
   "outputs": [],
   "source": [
    "from wfm.spherical_mesh import *\n",
    "from timeit import timeit"
   ]
  },
  {
   "cell_type": "code",
   "execution_count": 2,
   "id": "111c2abe",
   "metadata": {},
   "outputs": [
    {
     "data": {
      "text/plain": [
       "((6480000, 3), dtype('float32'))"
      ]
     },
     "execution_count": 2,
     "metadata": {},
     "output_type": "execute_result"
    }
   ],
   "source": [
    "mesh = SphericalMesh()\n",
    "mesh.points.shape, mesh.points.dtype"
   ]
  },
  {
   "cell_type": "code",
   "execution_count": 3,
   "id": "522d0b79",
   "metadata": {},
   "outputs": [
    {
     "data": {
      "text/plain": [
       "(torch.Size([6480000, 3]), torch.float32)"
      ]
     },
     "execution_count": 3,
     "metadata": {},
     "output_type": "execute_result"
    }
   ],
   "source": [
    "torch_mesh = SphericalMesh(library = \"torch\")\n",
    "torch_mesh.points.shape, torch_mesh.points.dtype"
   ]
  },
  {
   "cell_type": "code",
   "execution_count": 4,
   "id": "1e31d705",
   "metadata": {},
   "outputs": [
    {
     "data": {
      "text/plain": [
       "((6480000, 3), dtype('float32'))"
      ]
     },
     "execution_count": 4,
     "metadata": {},
     "output_type": "execute_result"
    }
   ],
   "source": [
    "jax_mesh = SphericalMesh(library = \"jax\")\n",
    "jax_mesh.points.shape, jax_mesh.points.dtype"
   ]
  },
  {
   "cell_type": "code",
   "execution_count": 5,
   "id": "11575be7",
   "metadata": {},
   "outputs": [
    {
     "data": {
      "text/plain": [
       "10.2566947999876"
      ]
     },
     "execution_count": 5,
     "metadata": {},
     "output_type": "execute_result"
    }
   ],
   "source": [
    "timeit(\"\"\"SphericalMesh()\"\"\", number = 100, globals = {\"SphericalMesh\": SphericalMesh})"
   ]
  },
  {
   "cell_type": "code",
   "execution_count": null,
   "id": "c6dd0a0a",
   "metadata": {},
   "outputs": [],
   "source": [
    "mesh.plot_points()"
   ]
  }
 ],
 "metadata": {
  "kernelspec": {
   "display_name": "wfm-ErW5Bk3W-py3.12",
   "language": "python",
   "name": "python3"
  },
  "language_info": {
   "codemirror_mode": {
    "name": "ipython",
    "version": 3
   },
   "file_extension": ".py",
   "mimetype": "text/x-python",
   "name": "python",
   "nbconvert_exporter": "python",
   "pygments_lexer": "ipython3",
   "version": "3.12.8"
  }
 },
 "nbformat": 4,
 "nbformat_minor": 5
}
